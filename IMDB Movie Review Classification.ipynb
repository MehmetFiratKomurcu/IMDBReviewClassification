{
 "cells": [
  {
   "cell_type": "markdown",
   "metadata": {},
   "source": [
    "#  *INTRODUCTION*\n",
    "![IMDB](https://pchocasi.com.tr/wp-content/uploads/2017/12/IMDb-2017nin-En-Beğenilen-10-Yabancı-Filmini-Açıkladı-ÖNE-ÇIKAN-PNG-min.png)"
   ]
  },
  {
   "cell_type": "markdown",
   "metadata": {},
   "source": [
    "Hello, everyone. This is my first NLP project kernel, so I'm open to suggestions and advices. In this kernel we'll do some basic sentiment analysis on IMDB movie reviews. \n",
    "\n",
    "What We will do:\n",
    "\n",
    "  -  <h2>** 1. Take a Look at Data**</h2>\n",
    " \n",
    "  -  <h2>** 2. Cleaning Data **</h2>\n",
    " \n",
    "      -  <h2>** 2.1 Cleaning Texts **</h2>\n",
    "    \n",
    "  -  <h2>** 3. Analyze Data **</h2>\n",
    " \n",
    "  -  <h2>** 4. Classify Data **</h2>\n",
    "\n",
    "So, let's get started!\n"
   ]
  },
  {
   "cell_type": "markdown",
   "metadata": {},
   "source": [
    "First thing first, we'll import libraries"
   ]
  },
  {
   "cell_type": "code",
   "execution_count": 2,
   "metadata": {
    "collapsed": true
   },
   "outputs": [],
   "source": [
    "# Importing the libraries\n",
    "import pandas as pd\n",
    "import re\n",
    "import nltk\n",
    "from nltk.tokenize import word_tokenize\n",
    "from nltk.corpus import stopwords\n",
    "from nltk.stem import PorterStemmer\n",
    "from nltk.classify.scikitlearn import SklearnClassifier\n",
    "from sklearn.ensemble import RandomForestClassifier\n",
    "from sklearn.svm import SVC\n",
    "from bs4 import BeautifulSoup\n",
    "from nltk.classify.scikitlearn import SklearnClassifier\n",
    "from sklearn.ensemble import RandomForestClassifier\n",
    "from sklearn.svm import SVC\n",
    "%matplotlib inline"
   ]
  },
  {
   "cell_type": "markdown",
   "metadata": {},
   "source": [
    "# 1. Take a Look at Data\n",
    "\n",
    "Now, we can read our dataset and see some samples from it."
   ]
  },
  {
   "cell_type": "code",
   "execution_count": 3,
   "metadata": {},
   "outputs": [
    {
     "data": {
      "text/html": [
       "<div>\n",
       "<style>\n",
       "    .dataframe thead tr:only-child th {\n",
       "        text-align: right;\n",
       "    }\n",
       "\n",
       "    .dataframe thead th {\n",
       "        text-align: left;\n",
       "    }\n",
       "\n",
       "    .dataframe tbody tr th {\n",
       "        vertical-align: top;\n",
       "    }\n",
       "</style>\n",
       "<table border=\"1\" class=\"dataframe\">\n",
       "  <thead>\n",
       "    <tr style=\"text-align: right;\">\n",
       "      <th></th>\n",
       "      <th>type</th>\n",
       "      <th>review</th>\n",
       "      <th>label</th>\n",
       "      <th>file</th>\n",
       "    </tr>\n",
       "  </thead>\n",
       "  <tbody>\n",
       "    <tr>\n",
       "      <th>32802</th>\n",
       "      <td>train</td>\n",
       "      <td>Another FINE effort by America's most UNDERrat...</td>\n",
       "      <td>neg</td>\n",
       "      <td>5773_1.txt</td>\n",
       "    </tr>\n",
       "    <tr>\n",
       "      <th>24959</th>\n",
       "      <td>test</td>\n",
       "      <td>Michael Radford, the director of \"The Merchant...</td>\n",
       "      <td>pos</td>\n",
       "      <td>9965_8.txt</td>\n",
       "    </tr>\n",
       "    <tr>\n",
       "      <th>47928</th>\n",
       "      <td>train</td>\n",
       "      <td>This movie is a great mocumentary. It follows ...</td>\n",
       "      <td>pos</td>\n",
       "      <td>8136_9.txt</td>\n",
       "    </tr>\n",
       "    <tr>\n",
       "      <th>67360</th>\n",
       "      <td>train</td>\n",
       "      <td>When I first saw the ad campaign for this movi...</td>\n",
       "      <td>unsup</td>\n",
       "      <td>25625_0.txt</td>\n",
       "    </tr>\n",
       "    <tr>\n",
       "      <th>75401</th>\n",
       "      <td>train</td>\n",
       "      <td>I had some expectations for this movie, but it...</td>\n",
       "      <td>unsup</td>\n",
       "      <td>32862_0.txt</td>\n",
       "    </tr>\n",
       "    <tr>\n",
       "      <th>44565</th>\n",
       "      <td>train</td>\n",
       "      <td>I grew up in Houston and was nine when this mo...</td>\n",
       "      <td>pos</td>\n",
       "      <td>5109_10.txt</td>\n",
       "    </tr>\n",
       "    <tr>\n",
       "      <th>260</th>\n",
       "      <td>test</td>\n",
       "      <td>Wow, was this version of THE RACKETEER tough t...</td>\n",
       "      <td>neg</td>\n",
       "      <td>10234_3.txt</td>\n",
       "    </tr>\n",
       "    <tr>\n",
       "      <th>27447</th>\n",
       "      <td>train</td>\n",
       "      <td>By rights, there should never have been a \"Fir...</td>\n",
       "      <td>neg</td>\n",
       "      <td>12202_3.txt</td>\n",
       "    </tr>\n",
       "    <tr>\n",
       "      <th>91845</th>\n",
       "      <td>train</td>\n",
       "      <td>Sorry guys, not feelin' this one. Story: Freak...</td>\n",
       "      <td>unsup</td>\n",
       "      <td>47662_0.txt</td>\n",
       "    </tr>\n",
       "    <tr>\n",
       "      <th>61516</th>\n",
       "      <td>train</td>\n",
       "      <td>...because I wanted to watch this movie when i...</td>\n",
       "      <td>unsup</td>\n",
       "      <td>20365_0.txt</td>\n",
       "    </tr>\n",
       "  </tbody>\n",
       "</table>\n",
       "</div>"
      ],
      "text/plain": [
       "        type                                             review  label  \\\n",
       "32802  train  Another FINE effort by America's most UNDERrat...    neg   \n",
       "24959   test  Michael Radford, the director of \"The Merchant...    pos   \n",
       "47928  train  This movie is a great mocumentary. It follows ...    pos   \n",
       "67360  train  When I first saw the ad campaign for this movi...  unsup   \n",
       "75401  train  I had some expectations for this movie, but it...  unsup   \n",
       "44565  train  I grew up in Houston and was nine when this mo...    pos   \n",
       "260     test  Wow, was this version of THE RACKETEER tough t...    neg   \n",
       "27447  train  By rights, there should never have been a \"Fir...    neg   \n",
       "91845  train  Sorry guys, not feelin' this one. Story: Freak...  unsup   \n",
       "61516  train  ...because I wanted to watch this movie when i...  unsup   \n",
       "\n",
       "              file  \n",
       "32802   5773_1.txt  \n",
       "24959   9965_8.txt  \n",
       "47928   8136_9.txt  \n",
       "67360  25625_0.txt  \n",
       "75401  32862_0.txt  \n",
       "44565  5109_10.txt  \n",
       "260    10234_3.txt  \n",
       "27447  12202_3.txt  \n",
       "91845  47662_0.txt  \n",
       "61516  20365_0.txt  "
      ]
     },
     "execution_count": 3,
     "metadata": {},
     "output_type": "execute_result"
    }
   ],
   "source": [
    "#reading the dataset\n",
    "df_combined = pd.read_csv(\"D:\\\\data science\\\\imdb-review-datasetkggle\\\\imdb_master.csv\", encoding = 'latin-1', index_col = 0)\n",
    "df_combined.sample(10)"
   ]
  },
  {
   "cell_type": "markdown",
   "metadata": {},
   "source": [
    "# 2. Cleaning the Data\n",
    "\n",
    "Now, we need to some cleaning in our data.\n",
    "\n",
    "1- Drop file column, because we don't need it.\n",
    "\n",
    "2- Get the first 50000 rows of our dataset, because the rest of it is for unsupervising.(We'll just work on supervises)\n",
    "\n",
    "3- Drop type column and shuffle our dataset, because the first 25000 rows are for train and second one is for test."
   ]
  },
  {
   "cell_type": "code",
   "execution_count": 4,
   "metadata": {
    "collapsed": true
   },
   "outputs": [],
   "source": [
    "df_combined.drop('file', axis = 1, inplace = True)\n",
    "df_combined = df_combined[:50000]\n",
    "df_combined = df_combined.sample(frac=1).reset_index(drop=True)\n",
    "df_combined.drop('type', axis = 1, inplace = True)"
   ]
  },
  {
   "cell_type": "markdown",
   "metadata": {},
   "source": [
    "# 2.1 Cleaning the Texts\n",
    "in this part, we'll clean the reviews by:\n",
    "\n",
    "- Remove HTML Tags\n",
    "- Remove Punctuations\n",
    "- Lower All Letters( for example one and One will be count two different words if we don't lower letters)\n",
    "- Stem Words(get the roots of words)"
   ]
  },
  {
   "cell_type": "code",
   "execution_count": 5,
   "metadata": {
    "collapsed": true
   },
   "outputs": [],
   "source": [
    "# nltk.download('stopwords')\n",
    "corpus = []\n",
    "for i in range(0, 50000):\n",
    "    soup = BeautifulSoup(df_combined['review'][i],\"html5lib\")\n",
    "    df_combined['review'][i] = soup.get_text(strip=True)\n",
    "    review = re.sub('[^a-zA-Z]', ' ', df_combined['review'][i])\n",
    "    review = review.lower()\n",
    "    review = review.split()\n",
    "    ps = PorterStemmer()\n",
    "    review = [ps.stem(word) for word in review if not word in set(stopwords.words('english'))]\n",
    "    review = ' '.join(review)\n",
    "    corpus.append(review)\n"
   ]
  },
  {
   "cell_type": "markdown",
   "metadata": {},
   "source": [
    "# 3. Analyze Data\n",
    "\n",
    "Now, after we cleaned our dataset we can take all the words and see what are the most 15 most common words in reviews."
   ]
  },
  {
   "cell_type": "code",
   "execution_count": 6,
   "metadata": {},
   "outputs": [
    {
     "data": {
      "text/plain": [
       "[('movi', 103228),\n",
       " ('film', 95846),\n",
       " ('one', 55430),\n",
       " ('like', 45196),\n",
       " ('time', 31947),\n",
       " ('good', 30178),\n",
       " ('make', 30019),\n",
       " ('charact', 28346),\n",
       " ('see', 28234),\n",
       " ('get', 27962),\n",
       " ('watch', 27872),\n",
       " ('even', 25346),\n",
       " ('stori', 25270),\n",
       " ('would', 24598),\n",
       " ('realli', 23090)]"
      ]
     },
     "execution_count": 6,
     "metadata": {},
     "output_type": "execute_result"
    }
   ],
   "source": [
    "#take all words \n",
    "tokens = []  \n",
    "for i in corpus:\n",
    "    for t in i.split():\n",
    "        tokens.append(t)\n",
    "\n",
    "freq = nltk.FreqDist(tokens)\n",
    "# printing 15 most common words \n",
    "freq.most_common(15)"
   ]
  },
  {
   "cell_type": "markdown",
   "metadata": {},
   "source": [
    "As you can see, movie and film words are the top words.Now let's see these most common words in a graph."
   ]
  },
  {
   "cell_type": "code",
   "execution_count": 7,
   "metadata": {},
   "outputs": [
    {
     "data": {
      "image/png": "[encoded data removed]",
      "text/plain": [
       "<matplotlib.figure.Figure at 0x2e6530e0ba8>"
      ]
     },
     "metadata": {},
     "output_type": "display_data"
    }
   ],
   "source": [
    "freq.plot(15, cumulative=False)"
   ]
  },
  {
   "cell_type": "markdown",
   "metadata": {},
   "source": [
    "Now, we're going to take 3000 words from our reviews. Then, we're going to build a function that will find these top 3,000 words in our positive and negative reviews."
   ]
  },
  {
   "cell_type": "code",
   "execution_count": 16,
   "metadata": {
    "collapsed": true
   },
   "outputs": [],
   "source": [
    "word_corpus = []\n",
    "for i in corpus:\n",
    "    word_corpus.append(word_tokenize(i))\n",
    "\n",
    "labels = df_combined.iloc[:50000, 1].values\n",
    "documents = [(list(x), y) for x,y in zip(word_corpus, labels)]\n",
    "\n",
    "word_features = []\n",
    "for i in freq.most_common(3000):\n",
    "    word_features.append(i[0])\n",
    "\n",
    "def find_features(document):\n",
    "    words = set(document)\n",
    "    features = {}\n",
    "    for w in word_features:\n",
    "        features[w] = (w in words)\n",
    "\n",
    "    return features\n",
    "featuresets = [(find_features(rev), category) for (rev, category) in documents]"
   ]
  },
  {
   "cell_type": "markdown",
   "metadata": {},
   "source": [
    "# 4. Classify Data\n",
    "\n",
    "Now it's classify time, before we do it, first let's get our training and test set."
   ]
  },
  {
   "cell_type": "code",
   "execution_count": 17,
   "metadata": {
    "collapsed": true
   },
   "outputs": [],
   "source": [
    "# getting training set\n",
    "training_set = featuresets[:25000]\n",
    "\n",
    "# getting test set\n",
    "testing_set = featuresets[25000:]"
   ]
  },
  {
   "cell_type": "markdown",
   "metadata": {},
   "source": [
    "We'll use nltk library's NaiveBayesClassifier and show the most informative words in our reviews."
   ]
  },
  {
   "cell_type": "code",
   "execution_count": 18,
   "metadata": {},
   "outputs": [
    {
     "name": "stdout",
     "output_type": "stream",
     "text": [
      "Classifier accuracy percent: 85.436\n"
     ]
    }
   ],
   "source": [
    "classifier = nltk.NaiveBayesClassifier.train(training_set)\n",
    "print(\"Classifier accuracy percent:\",\n",
    "      (nltk.classify.accuracy(classifier, testing_set))*100)"
   ]
  },
  {
   "cell_type": "code",
   "execution_count": 19,
   "metadata": {},
   "outputs": [
    {
     "name": "stdout",
     "output_type": "stream",
     "text": [
      "Most Informative Features\n",
      "                 matthau = True              pos : neg    =     18.9 : 1.0\n",
      "                 stinker = True              neg : pos    =     18.8 : 1.0\n",
      "                     mst = True              neg : pos    =     14.0 : 1.0\n",
      "                 unfunni = True              neg : pos    =     12.9 : 1.0\n",
      "                   worst = True              neg : pos    =     10.1 : 1.0\n",
      "                laughabl = True              neg : pos    =      9.5 : 1.0\n",
      "                 incoher = True              neg : pos    =      9.3 : 1.0\n",
      "                  atroci = True              neg : pos    =      9.0 : 1.0\n",
      "                    wast = True              neg : pos    =      8.7 : 1.0\n",
      "                   lousi = True              neg : pos    =      8.7 : 1.0\n",
      "                  seagal = True              neg : pos    =      8.5 : 1.0\n",
      "                  poorli = True              neg : pos    =      8.5 : 1.0\n",
      "                      aw = True              neg : pos    =      8.2 : 1.0\n",
      "              amateurish = True              neg : pos    =      8.0 : 1.0\n",
      "                unintent = True              neg : pos    =      8.0 : 1.0\n"
     ]
    }
   ],
   "source": [
    "classifier.show_most_informative_features(15)"
   ]
  },
  {
   "cell_type": "markdown",
   "metadata": {},
   "source": [
    "We can use other algorithms as well, let's use Random Forest Classification and Kernel SVM"
   ]
  },
  {
   "cell_type": "code",
   "execution_count": 20,
   "metadata": {},
   "outputs": [
    {
     "name": "stdout",
     "output_type": "stream",
     "text": [
      "Classifier accuracy percent: 77.756\n"
     ]
    }
   ],
   "source": [
    "# Fitting Random Forest Classification to the Training set\n",
    "from sklearn.ensemble import RandomForestClassifier\n",
    "classifierRF = SklearnClassifier(RandomForestClassifier(n_estimators = 10,\n",
    "                                                        criterion = 'entropy', \n",
    "                                                        random_state = 0))\n",
    "classifierRF.train(training_set)\n",
    "\n",
    "print(\"Classifier accuracy percent:\",\n",
    "      (nltk.classify.accuracy(classifierRF, testing_set))*100)"
   ]
  },
  {
   "cell_type": "code",
   "execution_count": 21,
   "metadata": {},
   "outputs": [
    {
     "name": "stdout",
     "output_type": "stream",
     "text": [
      "Classifier accuracy percent: 85.556\n"
     ]
    }
   ],
   "source": [
    "classifierSVC = SklearnClassifier(SVC(kernel = 'rbf', random_state = 0))\n",
    "classifierSVC.train(training_set)\n",
    "print(\"Classifier accuracy percent:\",\n",
    "      (nltk.classify.accuracy(classifierSVC, testing_set))*100)"
   ]
  },
  {
   "cell_type": "markdown",
   "metadata": {},
   "source": [
    "Kernel SVM and nltk's Naive Bayes' accuracies are high and close.\n",
    "\n",
    "That's it, thank you so much for reading this kernel. I'm new at this area so, if you have any advice, don't hesitate please."
   ]
  }
 ],
 "metadata": {
  "kernelspec": {
   "display_name": "Python 3",
   "language": "python",
   "name": "python3"
  },
  "language_info": {
   "codemirror_mode": {
    "name": "ipython",
    "version": 3
   },
   "file_extension": ".py",
   "mimetype": "text/x-python",
   "name": "python",
   "nbconvert_exporter": "python",
   "pygments_lexer": "ipython3",
   "version": "3.6.3"
  }
 },
 "nbformat": 4,
 "nbformat_minor": 2
}
